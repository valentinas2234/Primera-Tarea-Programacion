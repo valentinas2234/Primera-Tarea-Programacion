{
  "nbformat": 4,
  "nbformat_minor": 0,
  "metadata": {
    "colab": {
      "provenance": [],
      "authorship_tag": "ABX9TyNMPuuMrAgy1rLVS91/XMrz",
      "include_colab_link": true
    },
    "kernelspec": {
      "name": "python3",
      "display_name": "Python 3"
    },
    "language_info": {
      "name": "python"
    }
  },
  "cells": [
    {
      "cell_type": "markdown",
      "metadata": {
        "id": "view-in-github",
        "colab_type": "text"
      },
      "source": [
        "<a href=\"https://colab.research.google.com/github/valentinas2234/Primera-Tarea-Programacion/blob/main/CODIGO.ipynb\" target=\"_parent\"><img src=\"https://colab.research.google.com/assets/colab-badge.svg\" alt=\"Open In Colab\"/></a>"
      ]
    },
    {
      "cell_type": "code",
      "execution_count": null,
      "metadata": {
        "colab": {
          "base_uri": "https://localhost:8080/"
        },
        "id": "lIsXwnrUnLQS",
        "outputId": "cc6f3d93-346e-46e4-e94e-d4051130d6d2"
      },
      "outputs": [
        {
          "output_type": "stream",
          "name": "stdout",
          "text": [
            "=== CALCULADORA DE RENDIMIENTO AGROINDUSTRIAL ===\n"
          ]
        }
      ],
      "source": [
        "# Calculadora de rendimiento de jugo de frutas\n",
        "print(\"=== CALCULADORA DE RENDIMIENTO AGROINDUSTRIAL ===\")\n",
        "\n",
        "# Entradas del usuario\n",
        "fruta = input(\"Ingrese la cantidad de fruta (kg): \")\n",
        "rendimiento = input(\"Ingrese el rendimiento esperado (%): \")\n",
        "\n",
        "# Conversión a números\n",
        "fruta_float = float(fruta)\n",
        "rendimiento_float = float(rendimiento)\n",
        "\n",
        "# Cálculo y resultado\n",
        "jugo = (fruta_float * rendimiento_float) / 100\n",
        "print(\"\\nResultado:\")\n",
        "print(\"Cantidad de jugo producido:\", jugo, \"litros\")"
      ]
    }
  ]
}